{
 "cells": [
  {
   "cell_type": "code",
   "execution_count": 110,
   "metadata": {},
   "outputs": [
    {
     "name": "stdout",
     "output_type": "stream",
     "text": [
      "Peso  130\n",
      "Valor  159\n",
      "solucion  [0 0 1 0 0 1 1 0 0 0]\n",
      "Peso  165\n",
      "Valor  239\n",
      "solucion  [1 0 0 0 1 0 0 0 1 0]\n",
      "Peso  121\n",
      "Valor  241\n",
      "solucion  [1 1 1 0 0 1 0 0 0 0]\n",
      "Peso  146\n",
      "Valor  265\n",
      "solucion  [1 1 1 0 0 0 1 0 0 0]\n",
      "Peso  151\n",
      "Valor  277\n",
      "solucion  [1 1 0 1 1 0 0 0 0 0]\n",
      "Peso  165\n",
      "Valor  309\n",
      "solucion  [1 1 1 1 0 1 0 0 0 0]\n"
     ]
    }
   ],
   "source": [
    "import numpy as np\n",
    "def calcular_pesoyvalor(solucion,pesos,valores):\n",
    "   peso=0\n",
    "   valor=0\n",
    "   for i in range(len(solucion)):\n",
    "      if(solucion[i]==1):\n",
    "        peso=peso+pesos[i]\n",
    "        valor=valor+valores[i]\n",
    "   return (peso,valor)\n",
    "def correr(n,pesos, valores,capacidad):\n",
    "   solucion=np.random.randint(2, size=len(valores))\n",
    "   mejor_valor=0\n",
    "   for i in range(n):\n",
    "      solucion=np.random.randint(2, size=len(valores))\n",
    "      x=calcular_pesoyvalor(solucion,pesos,valores)\n",
    "      if(x[0]<=capacidad and x[1]>mejor_valor):\n",
    "         mejor_peso=x[0]\n",
    "         mejor_valor=x[1]\n",
    "         print(\"Peso \", mejor_peso)\n",
    "         print(\"Valor \",mejor_valor)\n",
    "         print(\"solucion \",solucion)\n",
    "correr(10000,[23, 31, 29, 44, 53, 38, 63, 85, 89, 82],[92, 57, 49, 68, 60, 43, 67, 84, 87, 72],165)"
   ]
  },
  {
   "cell_type": "code",
   "execution_count": 72,
   "metadata": {},
   "outputs": [
    {
     "name": "stdout",
     "output_type": "stream",
     "text": [
      "Peso  135\n",
      "Valor  171\n",
      "solucion  [0 0 0 1 1 1 0 0 0 0]\n",
      "Peso  142\n",
      "Valor  178\n",
      "solucion  [0 1 1 0 0 0 0 0 0 1]\n",
      "Peso  165\n",
      "Valor  270\n",
      "solucion  [1 1 1 0 0 0 0 0 0 1]\n",
      "Peso  159\n",
      "Valor  276\n",
      "solucion  [1 0 1 1 0 0 1 0 0 0]\n",
      "Peso  151\n",
      "Valor  277\n",
      "solucion  [1 1 0 1 1 0 0 0 0 0]\n",
      "Peso  165\n",
      "Valor  309\n",
      "solucion  [1 1 1 1 0 1 0 0 0 0]\n"
     ]
    }
   ],
   "source": [
    "import numpy as np\n",
    "import random\n",
    "def calcular_pesoyvalor(solucion,pesos,valores):\n",
    "   peso=0\n",
    "   valor=0\n",
    "   for i in range(len(solucion)):\n",
    "      if(solucion[i]==1):\n",
    "        peso=peso+pesos[i]\n",
    "        valor=valor+valores[i]\n",
    "   return (peso,valor)\n",
    "def solucion_vecina(sol):\n",
    "    solvec=sol\n",
    "    x=random.randint(0, len(sol)-1)\n",
    "    if(sol[x]==0):\n",
    "        solvec[x]=1\n",
    "    else:\n",
    "        solvec[x]=0\n",
    "    return solvec\n",
    "def correr(n,pesos, valores,capacidad):\n",
    "   solucion=np.random.randint(2, size=len(valores))\n",
    "   mejor_valor=0\n",
    "   for i in range(n):\n",
    "      solucion=solucion_vecina(solucion)\n",
    "      x=calcular_pesoyvalor(solucion,pesos,valores)\n",
    "      if(x[0]<=capacidad and x[1]>mejor_valor):\n",
    "         mejor_peso=x[0]\n",
    "         mejor_valor=x[1]\n",
    "         print(\"Peso \", mejor_peso)\n",
    "         print(\"Valor \",mejor_valor)\n",
    "         print(\"solucion \",solucion)\n",
    "correr(1000,[23, 31, 29, 44, 53, 38, 63, 85, 89, 82],[92, 57, 49, 68, 60, 43, 67, 84, 87, 72],165)"
   ]
  }
 ],
 "metadata": {
  "kernelspec": {
   "display_name": "Python 3.10.8 64-bit (microsoft store)",
   "language": "python",
   "name": "python3"
  },
  "language_info": {
   "codemirror_mode": {
    "name": "ipython",
    "version": 3
   },
   "file_extension": ".py",
   "mimetype": "text/x-python",
   "name": "python",
   "nbconvert_exporter": "python",
   "pygments_lexer": "ipython3",
   "version": "3.10.8"
  },
  "orig_nbformat": 4,
  "vscode": {
   "interpreter": {
    "hash": "f8ca15d83b6fb72cece3edcf60f6aa40d2cbdeb5c60e0f188ff8c7c65828fd00"
   }
  }
 },
 "nbformat": 4,
 "nbformat_minor": 2
}
